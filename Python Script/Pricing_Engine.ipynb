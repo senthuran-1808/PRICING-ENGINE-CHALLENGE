{
 "cells": [
  {
   "cell_type": "code",
   "execution_count": 1,
   "id": "00366e9a",
   "metadata": {},
   "outputs": [],
   "source": [
    "import pandas as pd\n",
    "\n",
    "# Read input CSVs\n",
    "products_df = pd.read_csv(\"C:\\\\Users\\\\SENTHURAN\\\\Downloads\\\\products (1).csv\")\n",
    "sales_df = pd.read_csv(\"C:\\\\Users\\\\SENTHURAN\\\\Downloads\\\\sales.csv\")"
   ]
  },
  {
   "cell_type": "code",
   "execution_count": 2,
   "id": "485ae33d",
   "metadata": {},
   "outputs": [
    {
     "data": {
      "text/html": [
       "<div>\n",
       "<style scoped>\n",
       "    .dataframe tbody tr th:only-of-type {\n",
       "        vertical-align: middle;\n",
       "    }\n",
       "\n",
       "    .dataframe tbody tr th {\n",
       "        vertical-align: top;\n",
       "    }\n",
       "\n",
       "    .dataframe thead th {\n",
       "        text-align: right;\n",
       "    }\n",
       "</style>\n",
       "<table border=\"1\" class=\"dataframe\">\n",
       "  <thead>\n",
       "    <tr style=\"text-align: right;\">\n",
       "      <th></th>\n",
       "      <th>sku</th>\n",
       "      <th>name</th>\n",
       "      <th>current_price</th>\n",
       "      <th>cost_price</th>\n",
       "      <th>stock</th>\n",
       "    </tr>\n",
       "  </thead>\n",
       "  <tbody>\n",
       "    <tr>\n",
       "      <th>0</th>\n",
       "      <td>A123</td>\n",
       "      <td>Item A</td>\n",
       "      <td>649.99</td>\n",
       "      <td>500</td>\n",
       "      <td>150</td>\n",
       "    </tr>\n",
       "    <tr>\n",
       "      <th>1</th>\n",
       "      <td>B456</td>\n",
       "      <td>Item B</td>\n",
       "      <td>699.00</td>\n",
       "      <td>550</td>\n",
       "      <td>15</td>\n",
       "    </tr>\n",
       "    <tr>\n",
       "      <th>2</th>\n",
       "      <td>C789</td>\n",
       "      <td>Item C</td>\n",
       "      <td>999.00</td>\n",
       "      <td>500</td>\n",
       "      <td>250</td>\n",
       "    </tr>\n",
       "  </tbody>\n",
       "</table>\n",
       "</div>"
      ],
      "text/plain": [
       "    sku    name  current_price  cost_price  stock\n",
       "0  A123  Item A         649.99         500    150\n",
       "1  B456  Item B         699.00         550     15\n",
       "2  C789  Item C         999.00         500    250"
      ]
     },
     "metadata": {},
     "output_type": "display_data"
    },
    {
     "data": {
      "text/html": [
       "<div>\n",
       "<style scoped>\n",
       "    .dataframe tbody tr th:only-of-type {\n",
       "        vertical-align: middle;\n",
       "    }\n",
       "\n",
       "    .dataframe tbody tr th {\n",
       "        vertical-align: top;\n",
       "    }\n",
       "\n",
       "    .dataframe thead th {\n",
       "        text-align: right;\n",
       "    }\n",
       "</style>\n",
       "<table border=\"1\" class=\"dataframe\">\n",
       "  <thead>\n",
       "    <tr style=\"text-align: right;\">\n",
       "      <th></th>\n",
       "      <th>sku</th>\n",
       "      <th>quantity_sold</th>\n",
       "    </tr>\n",
       "  </thead>\n",
       "  <tbody>\n",
       "    <tr>\n",
       "      <th>0</th>\n",
       "      <td>A123</td>\n",
       "      <td>10</td>\n",
       "    </tr>\n",
       "    <tr>\n",
       "      <th>1</th>\n",
       "      <td>B456</td>\n",
       "      <td>35</td>\n",
       "    </tr>\n",
       "    <tr>\n",
       "      <th>2</th>\n",
       "      <td>C789</td>\n",
       "      <td>0</td>\n",
       "    </tr>\n",
       "  </tbody>\n",
       "</table>\n",
       "</div>"
      ],
      "text/plain": [
       "    sku  quantity_sold\n",
       "0  A123             10\n",
       "1  B456             35\n",
       "2  C789              0"
      ]
     },
     "metadata": {},
     "output_type": "display_data"
    }
   ],
   "source": [
    "display(products_df)\n",
    "display(sales_df)"
   ]
  },
  {
   "cell_type": "code",
   "execution_count": 3,
   "id": "8b65e0a1",
   "metadata": {},
   "outputs": [],
   "source": [
    "# Merge dataframes on 'sku'\n",
    "merged_df = pd.merge(products_df, sales_df, on=\"sku\", how=\"left\")\n",
    "merged_df[\"quantity_sold\"] = merged_df[\"quantity_sold\"].fillna(0)"
   ]
  },
  {
   "cell_type": "code",
   "execution_count": 4,
   "id": "af6fdc64",
   "metadata": {},
   "outputs": [
    {
     "data": {
      "text/html": [
       "<div>\n",
       "<style scoped>\n",
       "    .dataframe tbody tr th:only-of-type {\n",
       "        vertical-align: middle;\n",
       "    }\n",
       "\n",
       "    .dataframe tbody tr th {\n",
       "        vertical-align: top;\n",
       "    }\n",
       "\n",
       "    .dataframe thead th {\n",
       "        text-align: right;\n",
       "    }\n",
       "</style>\n",
       "<table border=\"1\" class=\"dataframe\">\n",
       "  <thead>\n",
       "    <tr style=\"text-align: right;\">\n",
       "      <th></th>\n",
       "      <th>sku</th>\n",
       "      <th>name</th>\n",
       "      <th>current_price</th>\n",
       "      <th>cost_price</th>\n",
       "      <th>stock</th>\n",
       "      <th>quantity_sold</th>\n",
       "    </tr>\n",
       "  </thead>\n",
       "  <tbody>\n",
       "    <tr>\n",
       "      <th>0</th>\n",
       "      <td>A123</td>\n",
       "      <td>Item A</td>\n",
       "      <td>649.99</td>\n",
       "      <td>500</td>\n",
       "      <td>150</td>\n",
       "      <td>10</td>\n",
       "    </tr>\n",
       "    <tr>\n",
       "      <th>1</th>\n",
       "      <td>B456</td>\n",
       "      <td>Item B</td>\n",
       "      <td>699.00</td>\n",
       "      <td>550</td>\n",
       "      <td>15</td>\n",
       "      <td>35</td>\n",
       "    </tr>\n",
       "    <tr>\n",
       "      <th>2</th>\n",
       "      <td>C789</td>\n",
       "      <td>Item C</td>\n",
       "      <td>999.00</td>\n",
       "      <td>500</td>\n",
       "      <td>250</td>\n",
       "      <td>0</td>\n",
       "    </tr>\n",
       "  </tbody>\n",
       "</table>\n",
       "</div>"
      ],
      "text/plain": [
       "    sku    name  current_price  cost_price  stock  quantity_sold\n",
       "0  A123  Item A         649.99         500    150             10\n",
       "1  B456  Item B         699.00         550     15             35\n",
       "2  C789  Item C         999.00         500    250              0"
      ]
     },
     "metadata": {},
     "output_type": "display_data"
    }
   ],
   "source": [
    "display(merged_df)"
   ]
  },
  {
   "cell_type": "code",
   "execution_count": 8,
   "id": "9c572b70",
   "metadata": {},
   "outputs": [],
   "source": [
    "def compute_new_price(row):\n",
    "    \n",
    "    # Extract values from the row\n",
    "    current_price = row['current_price']\n",
    "    cost_price = row['cost_price']\n",
    "    stock = row['stock']\n",
    "    quantity_sold = row['quantity_sold']\n",
    "    \n",
    "    # Start with the current price as default\n",
    "    new_price = current_price\n",
    "\n",
    "    # === Apply pricing rules in order of precedence ===\n",
    "\n",
    "    # Rule 1: Low Stock, High Demand - Increase price by 15%\n",
    "    if stock < 20 and quantity_sold > 30:\n",
    "        new_price = current_price * 1.15\n",
    "\n",
    "    # Rule 2: Dead Stock - Decrease price by 30%\n",
    "    elif stock > 200 and quantity_sold == 0:\n",
    "        new_price = current_price * 0.70\n",
    "\n",
    "    # Rule 3: Overstocked Inventory - Decrease price by 10%\n",
    "    elif stock > 100 and quantity_sold < 20:\n",
    "        new_price = current_price * 0.90\n",
    "\n",
    "    # === Apply Rule 4: Minimum Profit Constraint (Always applied) ===\n",
    "    # The new price must be at least 20% above the cost_price.\n",
    "    minimum_allowed_price = cost_price * 1.2\n",
    "    if new_price < minimum_allowed_price:\n",
    "        new_price = minimum_allowed_price\n",
    "\n",
    "    # Return the final computed price rounded to 2 decimals\n",
    "    return round(new_price, 2)\n",
    "\n",
    "# Apply the compute_new_price function across the DataFrame\n",
    "merged_df['new_price'] = merged_df.apply(compute_new_price, axis=1)"
   ]
  },
  {
   "cell_type": "code",
   "execution_count": 9,
   "id": "67b3c807",
   "metadata": {},
   "outputs": [],
   "source": [
    "# Convert prices to string with units, e.g., \"699.00 INR\"\n",
    "merged_df['old_price'] = merged_df['current_price'].apply(lambda price: f\"{round(price, 2)} INR\")\n",
    "merged_df['new_price'] = merged_df['new_price'].apply(lambda price: f\"{round(price, 2)} INR\")"
   ]
  },
  {
   "cell_type": "code",
   "execution_count": 10,
   "id": "2ccd2836",
   "metadata": {},
   "outputs": [],
   "source": [
    "# Select required columns for the output CSV\n",
    "output_df = merged_df[['sku', 'old_price', 'new_price']]"
   ]
  },
  {
   "cell_type": "code",
   "execution_count": 11,
   "id": "126cecff",
   "metadata": {},
   "outputs": [],
   "source": [
    "# Write to the updated_prices.csv file\n",
    "output_df.to_csv(\"C:\\\\Users\\\\SENTHURAN\\\\Downloads\\\\updated_prices.csv\", index=False)"
   ]
  },
  {
   "cell_type": "code",
   "execution_count": 12,
   "id": "003faebe",
   "metadata": {},
   "outputs": [
    {
     "data": {
      "text/html": [
       "<div>\n",
       "<style scoped>\n",
       "    .dataframe tbody tr th:only-of-type {\n",
       "        vertical-align: middle;\n",
       "    }\n",
       "\n",
       "    .dataframe tbody tr th {\n",
       "        vertical-align: top;\n",
       "    }\n",
       "\n",
       "    .dataframe thead th {\n",
       "        text-align: right;\n",
       "    }\n",
       "</style>\n",
       "<table border=\"1\" class=\"dataframe\">\n",
       "  <thead>\n",
       "    <tr style=\"text-align: right;\">\n",
       "      <th></th>\n",
       "      <th>sku</th>\n",
       "      <th>old_price</th>\n",
       "      <th>new_price</th>\n",
       "    </tr>\n",
       "  </thead>\n",
       "  <tbody>\n",
       "    <tr>\n",
       "      <th>0</th>\n",
       "      <td>A123</td>\n",
       "      <td>649.99 INR</td>\n",
       "      <td>600.0 INR</td>\n",
       "    </tr>\n",
       "    <tr>\n",
       "      <th>1</th>\n",
       "      <td>B456</td>\n",
       "      <td>699.0 INR</td>\n",
       "      <td>803.85 INR</td>\n",
       "    </tr>\n",
       "    <tr>\n",
       "      <th>2</th>\n",
       "      <td>C789</td>\n",
       "      <td>999.0 INR</td>\n",
       "      <td>699.3 INR</td>\n",
       "    </tr>\n",
       "  </tbody>\n",
       "</table>\n",
       "</div>"
      ],
      "text/plain": [
       "    sku   old_price   new_price\n",
       "0  A123  649.99 INR   600.0 INR\n",
       "1  B456   699.0 INR  803.85 INR\n",
       "2  C789   999.0 INR   699.3 INR"
      ]
     },
     "execution_count": 12,
     "metadata": {},
     "output_type": "execute_result"
    }
   ],
   "source": [
    "output_df"
   ]
  },
  {
   "cell_type": "code",
   "execution_count": null,
   "id": "909a8969",
   "metadata": {},
   "outputs": [],
   "source": []
  }
 ],
 "metadata": {
  "kernelspec": {
   "display_name": "Python 3",
   "language": "python",
   "name": "python3"
  },
  "language_info": {
   "codemirror_mode": {
    "name": "ipython",
    "version": 3
   },
   "file_extension": ".py",
   "mimetype": "text/x-python",
   "name": "python",
   "nbconvert_exporter": "python",
   "pygments_lexer": "ipython3",
   "version": "3.13.2"
  }
 },
 "nbformat": 4,
 "nbformat_minor": 5
}
